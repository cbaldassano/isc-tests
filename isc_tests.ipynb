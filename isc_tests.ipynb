{
 "cells": [
  {
   "cell_type": "code",
   "execution_count": 218,
   "metadata": {},
   "outputs": [],
   "source": [
    "import numpy as np\n",
    "from brainiak.isc import (isc, permutation_isc, bootstrap_isc,\n",
    "                          phaseshift_isc, timeshift_isc,\n",
    "                          compute_summary_statistic)"
   ]
  },
  {
   "cell_type": "code",
   "execution_count": 219,
   "metadata": {},
   "outputs": [],
   "source": [
    "# Simulate correlated data by sampling from multivariate normal\n",
    "def correlated_data(n_trs, n_subjects, r, mean=0, var=1):\n",
    "    \n",
    "    mean = np.full(n_subjects, mean)\n",
    "    cov = np.full((n_subjects, n_subjects), r)\n",
    "    np.fill_diagonal(cov, var)\n",
    "    data = np.random.multivariate_normal(mean, cov, size=n_trs)\n",
    "    \n",
    "    return data"
   ]
  },
  {
   "cell_type": "code",
   "execution_count": 222,
   "metadata": {},
   "outputs": [
    {
     "name": "stdout",
     "output_type": "stream",
     "text": [
      "Leave-one-out ISC = 0.4939674927637444\n",
      "Pairwise ISC = 0.30562608853465517\n"
     ]
    }
   ],
   "source": [
    "# Try a reasonable example with low N and decent correlation\n",
    "n_trs = 300\n",
    "n_subjects = 10\n",
    "r = .3\n",
    "\n",
    "# Generated our simulated correlated data\n",
    "data = correlated_data(n_trs, n_subjects, r)\n",
    "\n",
    "# Get leave-one-out ISC (we expect this to be inflated)\n",
    "iscs = isc(data, pairwise=False)\n",
    "mean_isc = compute_summary_statistic(iscs)\n",
    "print(f\"Leave-one-out ISC = {mean_isc}\")\n",
    "\n",
    "# Get pairwise ISC (not inflated)\n",
    "iscs = isc(data, pairwise=True)\n",
    "mean_isc = compute_summary_statistic(iscs)\n",
    "print(f\"Pairwise ISC = {mean_isc}\")"
   ]
  },
  {
   "cell_type": "code",
   "execution_count": 240,
   "metadata": {},
   "outputs": [],
   "source": [
    "# Function for running FPR simulations\n",
    "def fpr_simulation(n_trs, n_subjects, test, r=.0, pairwise=False,\n",
    "                   nominal_p = .05, n_simulations=1000, seed=None):\n",
    "\n",
    "    np.random.seed(seed)\n",
    "    p_distribution = []\n",
    "    for i in np.arange(n_iterations):\n",
    "        data = correlated_data(n_trs, n_subjects, r)\n",
    "\n",
    "        if test == bootstrap_isc:\n",
    "            iscs = isc(data, pairwise=pairwise)\n",
    "            _, _, p, _ = test(iscs)\n",
    "\n",
    "        elif test == permutation_isc:\n",
    "            iscs = isc(data, pairwise=pairwise)\n",
    "            _, p, _ = test(iscs)\n",
    "\n",
    "        elif test in (phaseshift_isc, timeshift_isc):\n",
    "            _, p, _ = test(data, pairwise=pairwise)\n",
    "\n",
    "        if i > 0 and i % 10 == 0:\n",
    "            print(f\"Finished simulation {i}\")\n",
    "\n",
    "        p_distribution.append(p[0])\n",
    "        \n",
    "    p_distribution = np.array(p_distribution)\n",
    "    fpr = np.sum(p_distribution <= nominal_p) / n_simulations\n",
    "    \n",
    "    return fpr, p_distribution"
   ]
  },
  {
   "cell_type": "code",
   "execution_count": 241,
   "metadata": {},
   "outputs": [],
   "source": [
    "# Set common parameters across all noise simulations\n",
    "n_trs = 300\n",
    "n_subjects = 10\n",
    "r = .0\n",
    "pairwise = False\n",
    "nominal_p = .05\n",
    "n_simulations = 100"
   ]
  },
  {
   "cell_type": "code",
   "execution_count": 243,
   "metadata": {},
   "outputs": [
    {
     "name": "stdout",
     "output_type": "stream",
     "text": [
      "Finished simulation 10\n",
      "Finished simulation 20\n",
      "Finished simulation 30\n",
      "Finished simulation 40\n",
      "Finished simulation 50\n",
      "Finished simulation 60\n",
      "Finished simulation 70\n",
      "Finished simulation 80\n",
      "Finished simulation 90\n",
      "FPR = 0.160 (for nominal p = 0.05) using \"bootstrap_isc\"\n"
     ]
    }
   ],
   "source": [
    "# Run the FPR simulation for the bootstrap test\n",
    "test = bootstrap_isc\n",
    "fpr, p_distribution = fpr_simulation(n_trs, n_subjects, test,\n",
    "                                     n_simulations=100, seed=1)\n",
    "print(f'FPR = {fpr:.3f} (for nominal p = {nominal_p}) using \"{test.__name__}\"')"
   ]
  },
  {
   "cell_type": "code",
   "execution_count": 244,
   "metadata": {},
   "outputs": [
    {
     "name": "stdout",
     "output_type": "stream",
     "text": [
      "Finished simulation 10\n",
      "Finished simulation 20\n",
      "Finished simulation 30\n",
      "Finished simulation 40\n",
      "Finished simulation 50\n",
      "Finished simulation 60\n",
      "Finished simulation 70\n",
      "Finished simulation 80\n",
      "Finished simulation 90\n",
      "FPR = 0.100 (for nominal p = 0.05) using \"permutation_isc\"\n"
     ]
    }
   ],
   "source": [
    "# Run the FPR simulation for the permutation test\n",
    "test = permutation_isc\n",
    "fpr, p_distribution = fpr_simulation(n_trs, n_subjects, test,\n",
    "                                     n_simulations=100, seed=1)\n",
    "print(f'FPR = {fpr:.3f} (for nominal p = {nominal_p}) using \"{test.__name__}\"')"
   ]
  },
  {
   "cell_type": "code",
   "execution_count": 245,
   "metadata": {},
   "outputs": [
    {
     "name": "stdout",
     "output_type": "stream",
     "text": [
      "Finished simulation 10\n",
      "Finished simulation 20\n",
      "Finished simulation 30\n",
      "Finished simulation 40\n",
      "Finished simulation 50\n",
      "Finished simulation 60\n",
      "Finished simulation 70\n",
      "Finished simulation 80\n",
      "Finished simulation 90\n",
      "FPR = 0.130 (for nominal p = 0.05) using \"phaseshift_isc\"\n"
     ]
    }
   ],
   "source": [
    "# Run the FPR simulation for the phase randomization test\n",
    "test = phaseshift_isc\n",
    "fpr, p_distribution = fpr_simulation(n_trs, n_subjects, test,\n",
    "                                     n_simulations=100, seed=1)\n",
    "print(f'FPR = {fpr:.3f} (for nominal p = {nominal_p}) using \"{test.__name__}\"')"
   ]
  },
  {
   "cell_type": "code",
   "execution_count": 246,
   "metadata": {},
   "outputs": [
    {
     "name": "stdout",
     "output_type": "stream",
     "text": [
      "Finished simulation 10\n",
      "Finished simulation 20\n",
      "Finished simulation 30\n",
      "Finished simulation 40\n",
      "Finished simulation 50\n",
      "Finished simulation 60\n",
      "Finished simulation 70\n",
      "Finished simulation 80\n",
      "Finished simulation 90\n",
      "FPR = 0.130 (for nominal p = 0.05) using \"timeshift_isc\"\n"
     ]
    }
   ],
   "source": [
    "# Run the FPR simulation for the circular time-shift test\n",
    "test = timeshift_isc\n",
    "fpr, p_distribution = fpr_simulation(n_trs, n_subjects, test,\n",
    "                                     n_simulations=100, seed=1)\n",
    "print(f'FPR = {fpr:.3f} (for nominal p = {nominal_p}) using \"{test.__name__}\"')"
   ]
  }
 ],
 "metadata": {
  "kernelspec": {
   "display_name": "Python 3",
   "language": "python",
   "name": "python3"
  },
  "language_info": {
   "codemirror_mode": {
    "name": "ipython",
    "version": 3
   },
   "file_extension": ".py",
   "mimetype": "text/x-python",
   "name": "python",
   "nbconvert_exporter": "python",
   "pygments_lexer": "ipython3",
   "version": "3.7.7"
  }
 },
 "nbformat": 4,
 "nbformat_minor": 4
}
